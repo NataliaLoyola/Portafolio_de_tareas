{
  "metadata": {
    "language_info": {
      "codemirror_mode": {
        "name": "python",
        "version": 3
      },
      "file_extension": ".py",
      "mimetype": "text/x-python",
      "name": "python",
      "nbconvert_exporter": "python",
      "pygments_lexer": "ipython3",
      "version": "3.8"
    },
    "kernelspec": {
      "name": "python",
      "display_name": "Python (Pyodide)",
      "language": "python"
    }
  },
  "nbformat_minor": 4,
  "nbformat": 4,
  "cells": [
    {
      "cell_type": "code",
      "source": "#Binario a decimal\nb = 11001\ndec = int(str(b), 2)\nprint(45)\n#Decimal a binario\nbin(dec)\nprint(int(bin(45)[2:]))",
      "metadata": {
        "trusted": true
      },
      "execution_count": 9,
      "outputs": [
        {
          "name": "stdout",
          "text": "45\n101101\n",
          "output_type": "stream"
        }
      ]
    }
  ]
}